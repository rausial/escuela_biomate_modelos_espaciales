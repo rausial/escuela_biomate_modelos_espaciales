{
 "cells": [
  {
   "cell_type": "code",
   "execution_count": null,
   "metadata": {
    "collapsed": true,
    "slideshow": {
     "slide_type": "skip"
    }
   },
   "outputs": [],
   "source": [
    "%load_ext autoreload\n",
    "%autoreload 2"
   ]
  },
  {
   "cell_type": "code",
   "execution_count": null,
   "metadata": {
    "collapsed": true,
    "slideshow": {
     "slide_type": "skip"
    }
   },
   "outputs": [],
   "source": [
    "import pandas\n",
    "import requests\n",
    "import json\n",
    "import numpy as np\n",
    "import cartopy.crs as ccrs\n",
    "import cartopy.feature as cfeature\n",
    "import species.data.points as sp_data\n",
    "\n",
    "import matplotlib.pyplot as plt\n",
    "%matplotlib notebook"
   ]
  },
  {
   "cell_type": "code",
   "execution_count": null,
   "metadata": {
    "collapsed": true,
    "slideshow": {
     "slide_type": "skip"
    }
   },
   "outputs": [],
   "source": [
    "from IPython.display import Latex"
   ]
  },
  {
   "cell_type": "markdown",
   "metadata": {
    "slideshow": {
     "slide_type": "slide"
    }
   },
   "source": [
    "# Procesos espaciales\n",
    "## Eventos\n",
    "## Latices\n",
    "## Procesos de puntos"
   ]
  },
  {
   "cell_type": "markdown",
   "metadata": {
    "slideshow": {
     "slide_type": "subslide"
    }
   },
   "source": [
    "# Procesos de puntos\n",
    "\n",
    "## Ejemplo: Base de datos SNIB (Sistema Nacional de Información sobre Biodiversidad)"
   ]
  },
  {
   "cell_type": "code",
   "execution_count": null,
   "metadata": {
    "collapsed": true,
    "slideshow": {
     "slide_type": "skip"
    }
   },
   "outputs": [],
   "source": [
    "jaguar_points = sp_data.get_species_points(\"Panthera onca\")\n",
    "lince_points = sp_data.get_species_points(\"Lynx rufus\")\n",
    "coyote_points = sp_data.get_species_points(\"Canis latrans\")\n",
    "musarana_points = sp_data.get_species_points(\"Blarina brevicauda\")"
   ]
  },
  {
   "cell_type": "code",
   "execution_count": null,
   "metadata": {
    "collapsed": true,
    "slideshow": {
     "slide_type": "-"
    }
   },
   "outputs": [],
   "source": [
    "lince_cells = sp_data.get_species_cells(\"Lynx rufus\")\n",
    "jaguar_cells = sp_data.get_species_cells(\"Panthera onca\")\n",
    "coyote_cells = sp_data.get_species_cells(\"Canis latrans\")\n",
    "musarana_cells = sp_data.get_species_cells(\"Blarina brevicauda\")\n",
    "\n",
    "lince_cell_set = set(lince_cells)\n",
    "jaguar_cell_set = set(jaguar_cells)\n",
    "coyote_cell_set = set(coyote_cells)\n",
    "musarana_cell_set = set(musarana_cells)"
   ]
  },
  {
   "cell_type": "code",
   "execution_count": null,
   "metadata": {
    "collapsed": true,
    "slideshow": {
     "slide_type": "subslide"
    }
   },
   "outputs": [],
   "source": [
    "sp_data.display_points([jaguar_points, lince_points, coyote_points, musarana_points], \n",
    "                       alpha=0.7, land_col=(.95, .95, .95))"
   ]
  },
  {
   "cell_type": "markdown",
   "metadata": {
    "slideshow": {
     "slide_type": "subslide"
    },
    "variables": {
     "len(coyote_cell_set)": "1800",
     "len(coyote_points)": "4767",
     "len(jaguar_cell_set)": "88",
     "len(jaguar_points)": "239",
     "len(lince_cell_set)": "1431",
     "len(lince_points)": "3011",
     "len(musarana_cell_set)": "1292",
     "len(musarana_points)": "5285"
    }
   },
   "source": [
    "| Especie | # Puntos | # Celdas\n",
    "|-------------------|-----------------|-----------------|\n",
    "| Lince (Lynx rufus)| {{len(lince_points)}} | {{len(lince_cell_set)}} |\n",
    "| Jaguar (Panthera onca) | {{len(jaguar_points)}} | {{len(jaguar_cell_set)}} |\n",
    "| Coyote (Canis latrans) | {{len(coyote_points)}} | {{len(coyote_cell_set)}} |\n",
    "| Musaraña (Blarina brevicauda) | {{len(musarana_points)}} | {{len(musarana_cell_set)}} |"
   ]
  },
  {
   "cell_type": "markdown",
   "metadata": {
    "slideshow": {
     "slide_type": "fragment"
    },
    "variables": {
     "len(lince_cell_set.intersection(coyote_cell_set))": "372",
     "len(lince_cell_set.intersection(jaguar_cell_set))": "3",
     "len(lince_cell_set.intersection(musarana_cell_set))": "63",
     "len(lince_cell_set.union(coyote_cell_set))": "2859",
     "len(lince_cell_set.union(coyote_cell_set).union(jaguar_cell_set).union(musarana_cell_set))": "4097",
     "len(lince_cell_set.union(jaguar_cell_set))": "1516",
     "len(lince_cell_set.union(musarana_cell_set))": "2660"
    }
   },
   "source": [
    "| Conjunto | #  Celdas |\n",
    "|----------|-----------|\n",
    "| Lince unión Jaguar | {{len(lince_cell_set.union(jaguar_cell_set))}} |\n",
    "| Lince intersección Jaguar | {{len(lince_cell_set.intersection(jaguar_cell_set))}} |\n",
    "| Lince intersección Musaraña | {{len(lince_cell_set.intersection(musarana_cell_set))}} |\n",
    "| Lince intersección Coyote | {{len(lince_cell_set.intersection(coyote_cell_set))}} |\n",
    "| Lince unión Coyote | {{len(lince_cell_set.union(coyote_cell_set))}} |\n",
    "| Lince unión Musaraña | {{len(lince_cell_set.union(musarana_cell_set))}} |\n",
    "| Unión todos | {{len(lince_cell_set.union(coyote_cell_set).union(jaguar_cell_set).union(musarana_cell_set))}} |\n"
   ]
  },
  {
   "cell_type": "markdown",
   "metadata": {
    "slideshow": {
     "slide_type": "subslide"
    }
   },
   "source": [
    "¿El evento es totalmente aleatorio o depende de algo que no se? \n",
    "    ## Ejemplo de proceso aleatorio (generar puntos al azar y mostrarlos)"
   ]
  },
  {
   "cell_type": "markdown",
   "metadata": {
    "slideshow": {
     "slide_type": "subslide"
    }
   },
   "source": [
    "## Probabilidad\n",
    "### Variable aleatoria\n",
    "### Reglas de la probabilidad\n",
    "### Distribución de probabilidad\n",
    "#### Distribución de Bernoulli\n",
    "#### Distribución binomial"
   ]
  },
  {
   "cell_type": "markdown",
   "metadata": {
    "slideshow": {
     "slide_type": "subslide"
    }
   },
   "source": [
    "Distribución de Bernoulli\n",
    "\n",
    "$ X \\sim Be(p) \\Rightarrow X $ variable aleatoria tal que X = 1 con probabilidad $p$\n",
    "$$ P(X = 1) = p $$\n",
    "$$ P(X = 0) = 1 - p $$"
   ]
  },
  {
   "cell_type": "code",
   "execution_count": null,
   "metadata": {
    "collapsed": true,
    "slideshow": {
     "slide_type": "skip"
    }
   },
   "outputs": [],
   "source": [
    "def_score_parcial = Latex(r'$$s(L | J)~=~log(\\frac{P(J | L)}{P(no~J | L)})$$')\n",
    "\n",
    "def_epsilon = Latex(r\"\"\"$$\\varepsilon(L | J) = \n",
    "    \\frac\n",
    "        {n_{J}(P(L \\mid J)~-~P(L))}\n",
    "        \n",
    "        {\\sqrt{n_{J} P(lince) P(no~lince)}} = n_J  $$\"\"\")\n",
    "\n",
    "def_score_cell = Latex(r'$$ score(lince | especies) = \\$$')\n",
    "\n",
    "def_logit = Latex(r'$$ logit(X)~=~log(\\frac{X}{1 - X}) $$')"
   ]
  },
  {
   "cell_type": "markdown",
   "metadata": {
    "slideshow": {
     "slide_type": "subslide"
    },
    "variables": {
     "def_epsilon": "$$\\varepsilon(L | J) = \n    \\frac\n        {n_{J}(P(L \\mid J)~-~P(L))}\n        \n        {\\sqrt{n_{J} P(lince) P(no~lince)}} = n_J  $$",
     "def_logit": "$$ logit(X)~=~log(\\frac{X}{1 - X}) $$",
     "def_score_parcial": "$$s(L | J)~=~log(\\frac{P(J | L)}{P(no~J | L)})$$"
    }
   },
   "source": [
    "Dadas las distribuciones de dos especies, definimos una función indicadora de la correlación espacial entre las especies y la significatividad de esta correlación.\n",
    "\n",
    "{{def_epsilon}}\n",
    "\n",
    "{{def_score_parcial}}\n",
    "\n",
    "{{def_logit}}"
   ]
  },
  {
   "cell_type": "markdown",
   "metadata": {},
   "source": [
    "## Validación"
   ]
  },
  {
   "cell_type": "code",
   "execution_count": null,
   "metadata": {
    "collapsed": true
   },
   "outputs": [],
   "source": []
  }
 ],
 "metadata": {
  "celltoolbar": "Slideshow",
  "kernelspec": {
   "display_name": "Python 2",
   "language": "python",
   "name": "python2"
  },
  "language_info": {
   "codemirror_mode": {
    "name": "ipython",
    "version": 2
   },
   "file_extension": ".py",
   "mimetype": "text/x-python",
   "name": "python",
   "nbconvert_exporter": "python",
   "pygments_lexer": "ipython2",
   "version": "2.7.12"
  },
  "toc": {
   "colors": {
    "hover_highlight": "#DAA520",
    "navigate_num": "#000000",
    "navigate_text": "#333333",
    "running_highlight": "#FF0000",
    "selected_highlight": "#FFD700",
    "sidebar_border": "#EEEEEE",
    "wrapper_background": "#FFFFFF"
   },
   "moveMenuLeft": true,
   "nav_menu": {
    "height": "174px",
    "width": "252px"
   },
   "navigate_menu": true,
   "number_sections": true,
   "sideBar": true,
   "threshold": 4,
   "toc_cell": true,
   "toc_position": {
    "height": "184px",
    "left": "0px",
    "right": "1337px",
    "top": "106px",
    "width": "100px"
   },
   "toc_section_display": "none",
   "toc_window_display": true,
   "widenNotebook": false
  }
 },
 "nbformat": 4,
 "nbformat_minor": 2
}
