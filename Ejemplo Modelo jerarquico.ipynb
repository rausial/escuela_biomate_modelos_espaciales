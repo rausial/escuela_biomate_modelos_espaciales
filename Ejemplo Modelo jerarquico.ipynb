{
 "cells": [
  {
   "cell_type": "raw",
   "metadata": {},
   "source": [
    "<script>\n",
    "  jQuery(document).ready(function($) {\n",
    "\n",
    "  $(window).load(function(){\n",
    "    $('#preloader').fadeOut('slow',function(){$(this).remove();});\n",
    "  });\n",
    "\n",
    "  });\n",
    "</script>\n",
    "\n",
    "<style type=\"text/css\">\n",
    "  div#preloader { position: fixed;\n",
    "      left: 0;\n",
    "      top: 0;\n",
    "      z-index: 999;\n",
    "      width: 100%;\n",
    "      height: 100%;\n",
    "      overflow: visible;\n",
    "      background: #fff url('http://preloaders.net/preloaders/720/Moving%20line.gif') no-repeat center center;\n",
    "  }\n",
    "\n",
    "</style>\n",
    "\n",
    "<div id=\"preloader\"></div>"
   ]
  },
  {
   "cell_type": "raw",
   "metadata": {},
   "source": [
    "<script>\n",
    "  function code_toggle() {\n",
    "    if (code_shown){\n",
    "      $('div.input').hide('500');\n",
    "      $('#toggleButton').val('Show Code')\n",
    "    } else {\n",
    "      $('div.input').show('500');\n",
    "      $('#toggleButton').val('Hide Code')\n",
    "    }\n",
    "    code_shown = !code_shown\n",
    "  }\n",
    "\n",
    "  $( document ).ready(function(){\n",
    "    code_shown=false;\n",
    "    $('div.input').hide()\n",
    "  });\n",
    "</script>\n",
    "<form action=\"javascript:code_toggle()\"><input type=\"submit\" id=\"toggleButton\" value=\"Show Code\"></form>"
   ]
  },
  {
   "cell_type": "markdown",
   "metadata": {
    "slideshow": {
     "slide_type": "slide"
    },
    "toc": "true"
   },
   "source": [
    "# Table of Contents\n",
    " <p><div class=\"lev1 toc-item\"><a href=\"#Modelos-jerárquicos:-Introducción\" data-toc-modified-id=\"Modelos-jerárquicos:-Introducción-1\"><span class=\"toc-item-num\">1&nbsp;&nbsp;</span>Modelos jerárquicos: Introducción</a></div><div class=\"lev2 toc-item\"><a href=\"#¿Qué-es-un-modelo-jerárquico?\" data-toc-modified-id=\"¿Qué-es-un-modelo-jerárquico?-11\"><span class=\"toc-item-num\">1.1&nbsp;&nbsp;</span>¿Qué es un modelo jerárquico?</a></div><div class=\"lev2 toc-item\"><a href=\"#Modelo-de-datos,-modelo-de-proceso-y-parámetros-de-modelo\" data-toc-modified-id=\"Modelo-de-datos,-modelo-de-proceso-y-parámetros-de-modelo-12\"><span class=\"toc-item-num\">1.2&nbsp;&nbsp;</span>Modelo de datos, modelo de proceso y parámetros de modelo</a></div><div class=\"lev2 toc-item\"><a href=\"#Simulaciones\" data-toc-modified-id=\"Simulaciones-13\"><span class=\"toc-item-num\">1.3&nbsp;&nbsp;</span>Simulaciones</a></div><div class=\"lev1 toc-item\"><a href=\"#Ejemplo-simple\" data-toc-modified-id=\"Ejemplo-simple-2\"><span class=\"toc-item-num\">2&nbsp;&nbsp;</span>Ejemplo simple</a></div><div class=\"lev2 toc-item\"><a href=\"#Ejemplo-con-covariables\" data-toc-modified-id=\"Ejemplo-con-covariables-21\"><span class=\"toc-item-num\">2.1&nbsp;&nbsp;</span>Ejemplo con covariables</a></div>"
   ]
  },
  {
   "cell_type": "markdown",
   "metadata": {
    "collapsed": true,
    "slideshow": {
     "slide_type": "skip"
    }
   },
   "source": [
    "data model(s), process model(s), and parameter models"
   ]
  },
  {
   "cell_type": "code",
   "execution_count": null,
   "metadata": {
    "slideshow": {
     "slide_type": "skip"
    }
   },
   "outputs": [],
   "source": [
    "import pystan\n",
    "import numpy as np\n",
    "import geopandas as geopd\n",
    "import random\n",
    "import pandas as pd\n",
    "import pystan\n",
    "import math\n",
    "from scipy.stats import bernoulli, uniform, binom\n",
    "import matplotlib\n",
    "import matplotlib.pyplot as plt\n",
    "import functools\n",
    "from IPython.display import Latex\n",
    "\n",
    "%matplotlib inline"
   ]
  },
  {
   "cell_type": "markdown",
   "metadata": {
    "slideshow": {
     "slide_type": "slide"
    }
   },
   "source": [
    "# Modelos jerárquicos: Introducción\n",
    "(Ref: Applied Hierarchical Modeling in Ecology Sec. 10.3)"
   ]
  },
  {
   "cell_type": "markdown",
   "metadata": {
    "slideshow": {
     "slide_type": "subslide"
    }
   },
   "source": [
    "## ¿Qué es un modelo jerárquico?"
   ]
  },
  {
   "cell_type": "markdown",
   "metadata": {
    "slideshow": {
     "slide_type": "subslide"
    }
   },
   "source": [
    "## Modelo de datos, modelo de proceso y parámetros de modelo"
   ]
  },
  {
   "cell_type": "markdown",
   "metadata": {
    "slideshow": {
     "slide_type": "subslide"
    }
   },
   "source": [
    "## Simulaciones "
   ]
  },
  {
   "cell_type": "markdown",
   "metadata": {
    "slideshow": {
     "slide_type": "subslide"
    }
   },
   "source": [
    "# Ejemplo simple"
   ]
  },
  {
   "cell_type": "markdown",
   "metadata": {
    "slideshow": {
     "slide_type": "fragment"
    }
   },
   "source": [
    "Simulación con 100 sitios de muestreo de presencia, para alguna especie hipotética, con dos visitas por sitio (i.e. 200 observaciones). La probabilidad de presencia de la especie es 0.8 y su probabilidad de detección es 0.5. "
   ]
  },
  {
   "cell_type": "code",
   "execution_count": null,
   "metadata": {
    "collapsed": true,
    "slideshow": {
     "slide_type": "skip"
    }
   },
   "outputs": [],
   "source": [
    "random.seed(24)"
   ]
  },
  {
   "cell_type": "code",
   "execution_count": null,
   "metadata": {
    "collapsed": true,
    "slideshow": {
     "slide_type": "fragment"
    }
   },
   "outputs": [],
   "source": [
    "M = 100\n",
    "J = 2\n",
    "\n",
    "psi = 0.8 # probabilidad de presencia\n",
    "p = 0.5 # probabilidad de detección"
   ]
  },
  {
   "cell_type": "code",
   "execution_count": null,
   "metadata": {
    "collapsed": true,
    "slideshow": {
     "slide_type": "skip"
    }
   },
   "outputs": [],
   "source": [
    "stats = bernoulli.stats(psi)\n",
    "z = bernoulli.rvs(psi, size=M)\n",
    "stats = {'$\\psi$': psi, '$\\mu$': psi, '$\\sigma$': round(math.sqrt(psi*(1-psi)), 2)}\n"
   ]
  },
  {
   "cell_type": "markdown",
   "metadata": {
    "slideshow": {
     "slide_type": "subslide"
    }
   },
   "source": [
    "$$z \\sim Bernoulli(\\psi)$$\n",
    "\n",
    "{{pd.DataFrame(data=stats, index=['stats'])}}\n",
    "\n",
    "{{pd.DataFrame(z, columns=[\"z\"]).describe()}}"
   ]
  },
  {
   "cell_type": "code",
   "execution_count": null,
   "metadata": {
    "collapsed": true,
    "slideshow": {
     "slide_type": "skip"
    }
   },
   "outputs": [],
   "source": [
    "y = []\n",
    "for z_i in z:\n",
    "    y.append(bernoulli.rvs(p * z_i, size=J))\n",
    "\n",
    "y = np.array(y)"
   ]
  },
  {
   "cell_type": "markdown",
   "metadata": {
    "slideshow": {
     "slide_type": "subslide"
    }
   },
   "source": [
    "{{\"Sitios ocupados: {}\".format(z.sum())}}\n",
    "{{\"Detecciones: {}\".format(y.max(axis = 1).sum())}}\n",
    "\n",
    "$$y \\mid z \\sim Bernoulli(z*p)$$\n",
    "$$ z = 0 \\implies y = 0$$\n",
    "$$ z = 1 \\implies y \\sim Bernoulli(p) $$\n",
    "{{pd.DataFrame(z, columns=[\"z\"]).describe()}}"
   ]
  },
  {
   "cell_type": "code",
   "execution_count": null,
   "metadata": {
    "collapsed": true,
    "slideshow": {
     "slide_type": "subslide"
    }
   },
   "outputs": [],
   "source": [
    "occ_code = \"\"\"\n",
    "    data {\n",
    "        int<lower=1> M; // M >= 1 numero de sitios\n",
    "        int<lower=0, upper=1> z[M]; // estado de ocupacion z[m] en {0, 1}\n",
    "        int<lower=1> J;\n",
    "        int<lower=0, upper=1> y[M, J]; // observaciones y[m]\n",
    "    }\n",
    "    \n",
    "    parameters {\n",
    "        real<lower=0, upper=1> psi;  // probabilidad de presencia\n",
    "        real<lower=0, upper=1> p; // chance de detectar\n",
    "    }\n",
    "    \n",
    "\n",
    "    model {\n",
    "        psi ~ uniform(0,1); // prior\n",
    "        p ~ uniform(0, 1);  // prior\n",
    "        z ~ bernoulli(psi);\n",
    "        \n",
    "        for (i in 1:M)\n",
    "            y[i] ~ bernoulli(p * z[i]);\n",
    "    }\n",
    "\"\"\""
   ]
  },
  {
   "cell_type": "code",
   "execution_count": null,
   "metadata": {},
   "outputs": [],
   "source": [
    "sm_simple = pystan.StanModel(model_code=occ_code)"
   ]
  },
  {
   "cell_type": "code",
   "execution_count": null,
   "metadata": {
    "collapsed": true
   },
   "outputs": [],
   "source": [
    "survey_dat = {'M': M,\n",
    "              'J': J,\n",
    "              'y': y,\n",
    "              'z': z}\n",
    "\n",
    "fit_simple = sm_simple.sampling(data=survey_dat, iter=5000, chains=3)"
   ]
  },
  {
   "cell_type": "code",
   "execution_count": null,
   "metadata": {
    "variables": {
     "print(fit_simple)": "Inference for Stan model: anon_model_92bdbfec2115fe84bf70e1f4ad7acf35.\n3 chains, each with iter=5000; warmup=2500; thin=1; \npost-warmup draws per chain=2500, total post-warmup draws=7500."
    }
   },
   "outputs": [],
   "source": [
    "fit_simple"
   ]
  },
  {
   "cell_type": "code",
   "execution_count": null,
   "metadata": {},
   "outputs": [],
   "source": [
    "fit_simple.plot()"
   ]
  },
  {
   "cell_type": "code",
   "execution_count": null,
   "metadata": {
    "collapsed": true
   },
   "outputs": [],
   "source": [
    "## Ejemplo 2 con convariables\n",
    "J = 3\n",
    "sim_desc = Latex(r\"\"\"\n",
    "    \\begin{eqnarray*}\n",
    "        vegHt & \\sim & uniform(-1, 1) \\\\\n",
    "        wind & \\sim & uniform(-1, 1) \\\\\n",
    "        \\psi & \\sim & logistic(\\beta_0 + \\beta_1 vegHt) \\\\\n",
    "        p & \\sim & logistic(\\alpha_0 + \\alpha_1 wind) \\\\\n",
    "        \\\\\n",
    "        z & \\sim & Bernoulli(\\psi \\mid vegHt) \\\\\n",
    "        y & \\sim & Bernoulli(p \\mid z, wind)\n",
    "    \\end{eqnarray*}\"\"\")"
   ]
  },
  {
   "cell_type": "markdown",
   "metadata": {
    "slideshow": {
     "slide_type": "subslide"
    },
    "variables": {
     "J": "3",
     "M": "100",
     "sim_desc": "\n    \\begin{eqnarray*}\n        vegHt & \\sim & uniform(-1, 1) \\\\\n        wind & \\sim & uniform(-1, 1) \\\\\n        \\psi & \\sim & logistic(\\beta_0 + \\beta_1 vegHt) \\\\\n        p & \\sim & logistic(\\alpha_0 + \\alpha_1 wind) \\\\\n        \\\\\n        z & \\sim & Bernoulli(\\psi \\mid vegHt) \\\\\n        y & \\sim & Bernoulli(p \\mid z, wind)\n    \\end{eqnarray*}"
    }
   },
   "source": [
    "## Ejemplo con covariables\n",
    "M = {{M}}, J = {{J}} \n",
    "\n",
    "{{sim_desc}}"
   ]
  },
  {
   "cell_type": "code",
   "execution_count": null,
   "metadata": {
    "collapsed": true,
    "slideshow": {
     "slide_type": "skip"
    }
   },
   "outputs": [],
   "source": [
    "def  mi_logistic(x):\n",
    "    return 1 / (1 + math.exp(-x))\n",
    "\n",
    "vegHT = uniform.rvs(-1, 2, size=M)\n",
    "vegHT = np.array(vegHT)\n",
    "vegHT.sort()"
   ]
  },
  {
   "cell_type": "markdown",
   "metadata": {
    "slideshow": {
     "slide_type": "subslide"
    },
    "variables": {
     "pd.DataFrame(vegHT).describe()": "<div>\n<style>\n    .dataframe thead tr:only-child th {\n        text-align: right;\n    }\n\n    .dataframe thead th {\n        text-align: left;\n    }\n\n    .dataframe tbody tr th {\n        vertical-align: top;\n    }\n</style>\n<table border=\"1\" class=\"dataframe\">\n  <thead>\n    <tr style=\"text-align: right;\">\n      <th></th>\n      <th>0</th>\n    </tr>\n  </thead>\n  <tbody>\n    <tr>\n      <th>count</th>\n      <td>100.000000</td>\n    </tr>\n    <tr>\n      <th>mean</th>\n      <td>0.024852</td>\n    </tr>\n    <tr>\n      <th>std</th>\n      <td>0.583984</td>\n    </tr>\n    <tr>\n      <th>min</th>\n      <td>-0.985881</td>\n    </tr>\n    <tr>\n      <th>25%</th>\n      <td>-0.486454</td>\n    </tr>\n    <tr>\n      <th>50%</th>\n      <td>0.003945</td>\n    </tr>\n    <tr>\n      <th>75%</th>\n      <td>0.550053</td>\n    </tr>\n    <tr>\n      <th>max</th>\n      <td>0.965444</td>\n    </tr>\n  </tbody>\n</table>\n</div>"
    }
   },
   "source": [
    "{{pd.DataFrame(vegHT).describe()}}"
   ]
  },
  {
   "cell_type": "code",
   "execution_count": null,
   "metadata": {
    "collapsed": true,
    "slideshow": {
     "slide_type": "subslide"
    }
   },
   "outputs": [],
   "source": [
    "beta = [0, 3]"
   ]
  },
  {
   "cell_type": "code",
   "execution_count": null,
   "metadata": {
    "slideshow": {
     "slide_type": "fragment"
    }
   },
   "outputs": [],
   "source": [
    "psi = map(mi_logistic, beta[0] + (beta[1] * vegHT))\n",
    "psi = np.array(psi)\n",
    "plt.plot(vegHT, psi)"
   ]
  },
  {
   "cell_type": "code",
   "execution_count": null,
   "metadata": {},
   "outputs": [],
   "source": [
    "from collections import Counter\n",
    "\n",
    "z = bernoulli.rvs(psi, size=M)"
   ]
  },
  {
   "cell_type": "code",
   "execution_count": null,
   "metadata": {
    "collapsed": true
   },
   "outputs": [],
   "source": [
    "wind = [uniform.rvs(-1, 2, size=J) for _ in xrange(M)]\n",
    "\n",
    "alfa = [-2, -3]\n",
    "p = np.array([map(mi_logistic, alfa[0] + alfa[1] * w_row) for w_row in wind])\n",
    "theta = [x[0] * x[1] for x in zip(z, p)]\n",
    "y = [bernoulli.rvs(theta_row, size=J) for theta_row in theta]\n",
    "y = np.array(y)"
   ]
  },
  {
   "cell_type": "code",
   "execution_count": null,
   "metadata": {},
   "outputs": [],
   "source": [
    "y.max(axis=1).sum()"
   ]
  },
  {
   "cell_type": "code",
   "execution_count": null,
   "metadata": {
    "collapsed": true
   },
   "outputs": [],
   "source": [
    "model_code = \"\"\"\n",
    "   data {\n",
    "        int<lower=1> M; // M >= 1 numero de sitios\n",
    "        int<lower=0, upper=1> z[M]; // estado de ocupacion z[m] en {0, 1}\n",
    "        int<lower=1> J;\n",
    "        int<lower=0> y[M, J]; // observaciones y[m]\n",
    "        real vegHt[M];\n",
    "        real wind[M, J];\n",
    "    }\n",
    "    \n",
    "    parameters {\n",
    "        real beta[2];  // probabilidad de presencia\n",
    "        real alfa[2]; // chance de detectar\n",
    "    }\n",
    "    \n",
    "    model {\n",
    "        real psi;\n",
    "        real p;\n",
    "        \n",
    "        for (i in 1:M) {\n",
    "            psi =  beta[1] + beta[2] * vegHt[i];\n",
    "            z[i] ~ bernoulli_logit(psi);\n",
    "        }\n",
    "\n",
    "        for (i in 1:M)\n",
    "            for (j in 1:J) {\n",
    "                p = z[i] * inv_logit(alfa[1] + alfa[2] * wind[i,j]);\n",
    "                y[i,j] ~ bernoulli(p);\n",
    "            }\n",
    "    }\n",
    "\n",
    "\"\"\""
   ]
  },
  {
   "cell_type": "code",
   "execution_count": null,
   "metadata": {},
   "outputs": [],
   "source": [
    "sm_complex = pystan.StanModel(model_code=model_code)"
   ]
  },
  {
   "cell_type": "code",
   "execution_count": null,
   "metadata": {
    "collapsed": true
   },
   "outputs": [],
   "source": [
    "survey_dat = {'M': M,\n",
    "              'J': J,\n",
    "              'y': y,\n",
    "              'z': z,\n",
    "              'vegHt': vegHT,\n",
    "              'wind': wind}"
   ]
  },
  {
   "cell_type": "code",
   "execution_count": null,
   "metadata": {
    "collapsed": true
   },
   "outputs": [],
   "source": [
    "fit_complex = sm_complex.sampling(data=survey_dat, iter=5000, chains=4)"
   ]
  },
  {
   "cell_type": "code",
   "execution_count": null,
   "metadata": {},
   "outputs": [],
   "source": [
    "fit_complex"
   ]
  },
  {
   "cell_type": "code",
   "execution_count": null,
   "metadata": {
    "collapsed": true
   },
   "outputs": [],
   "source": [
    "fit_simple_2 = sm_simple.sampling(data=survey_dat, iter=5000, chains=4)"
   ]
  },
  {
   "cell_type": "code",
   "execution_count": null,
   "metadata": {},
   "outputs": [],
   "source": [
    "fit_simple_2"
   ]
  },
  {
   "cell_type": "code",
   "execution_count": null,
   "metadata": {},
   "outputs": [],
   "source": [
    "fit_complex.plot()"
   ]
  },
  {
   "cell_type": "code",
   "execution_count": null,
   "metadata": {},
   "outputs": [],
   "source": [
    "fit_simple_2.plot()"
   ]
  },
  {
   "cell_type": "code",
   "execution_count": null,
   "metadata": {},
   "outputs": [],
   "source": [
    "fit_simple.plot()"
   ]
  },
  {
   "cell_type": "code",
   "execution_count": null,
   "metadata": {},
   "outputs": [],
   "source": [
    "grid_32km = geopd.read_file(\"../SPECIES/repos/snib-middleware/geofiles/niche/grid_32km.json\")"
   ]
  },
  {
   "cell_type": "code",
   "execution_count": null,
   "metadata": {},
   "outputs": [],
   "source": [
    "grid_32km.describe()"
   ]
  }
 ],
 "metadata": {
  "celltoolbar": "Slideshow",
  "kernelspec": {
   "display_name": "Python 2",
   "language": "python",
   "name": "python2"
  },
  "language_info": {
   "codemirror_mode": {
    "name": "ipython",
    "version": 2
   },
   "file_extension": ".py",
   "mimetype": "text/x-python",
   "name": "python",
   "nbconvert_exporter": "python",
   "pygments_lexer": "ipython2",
   "version": "2.7.12"
  },
  "toc": {
   "colors": {
    "hover_highlight": "#DAA520",
    "navigate_num": "#000000",
    "navigate_text": "#333333",
    "running_highlight": "#FF0000",
    "selected_highlight": "#FFD700",
    "sidebar_border": "#EEEEEE",
    "wrapper_background": "#FFFFFF"
   },
   "moveMenuLeft": true,
   "nav_menu": {
    "height": "12px",
    "width": "252px"
   },
   "navigate_menu": true,
   "number_sections": true,
   "sideBar": true,
   "threshold": 4,
   "toc_cell": true,
   "toc_section_display": "block",
   "toc_window_display": false,
   "widenNotebook": false
  }
 },
 "nbformat": 4,
 "nbformat_minor": 2
}
